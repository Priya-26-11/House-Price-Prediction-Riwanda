{
 "cells": [
  {
   "cell_type": "markdown",
   "metadata": {},
   "source": [
    "# Data Extraction"
   ]
  },
  {
   "cell_type": "code",
   "execution_count": 517,
   "metadata": {},
   "outputs": [
    {
     "data": {
      "text/html": [
       "<div>\n",
       "<style scoped>\n",
       "    .dataframe tbody tr th:only-of-type {\n",
       "        vertical-align: middle;\n",
       "    }\n",
       "\n",
       "    .dataframe tbody tr th {\n",
       "        vertical-align: top;\n",
       "    }\n",
       "\n",
       "    .dataframe thead th {\n",
       "        text-align: right;\n",
       "    }\n",
       "</style>\n",
       "<table border=\"1\" class=\"dataframe\">\n",
       "  <thead>\n",
       "    <tr style=\"text-align: right;\">\n",
       "      <th></th>\n",
       "      <th>Price</th>\n",
       "      <th>Location</th>\n",
       "      <th>MatchedDistricts</th>\n",
       "      <th>Description</th>\n",
       "      <th>Date</th>\n",
       "      <th>Lat</th>\n",
       "      <th>Lon</th>\n",
       "      <th>Bedrooms</th>\n",
       "      <th>Bathrooms</th>\n",
       "      <th>Apartment</th>\n",
       "      <th>WaterTank</th>\n",
       "      <th>distance</th>\n",
       "    </tr>\n",
       "  </thead>\n",
       "  <tbody>\n",
       "    <tr>\n",
       "      <th>0</th>\n",
       "      <td>55000000.0</td>\n",
       "      <td>KANOMBE</td>\n",
       "      <td>KANOMBE_Rwanda</td>\n",
       "      <td>Ndagurisha inzu nziza cyane iri kanombe kuri c...</td>\n",
       "      <td>2019-12-10</td>\n",
       "      <td>-0.030861</td>\n",
       "      <td>0.020099</td>\n",
       "      <td>4.0</td>\n",
       "      <td>3.0</td>\n",
       "      <td>0.0</td>\n",
       "      <td>0.0</td>\n",
       "      <td>36.829055</td>\n",
       "    </tr>\n",
       "    <tr>\n",
       "      <th>1</th>\n",
       "      <td>60000000.0</td>\n",
       "      <td>KIMIRONKO</td>\n",
       "      <td>KIMIRONKO_Rwanda</td>\n",
       "      <td>Ndagurisha inzu nziza cyane ikomeye ifite na m...</td>\n",
       "      <td>2019-12-10</td>\n",
       "      <td>-0.011752</td>\n",
       "      <td>0.011840</td>\n",
       "      <td>4.0</td>\n",
       "      <td>3.0</td>\n",
       "      <td>0.0</td>\n",
       "      <td>0.0</td>\n",
       "      <td>16.682040</td>\n",
       "    </tr>\n",
       "    <tr>\n",
       "      <th>2</th>\n",
       "      <td>35000000.0</td>\n",
       "      <td>KIMIRONKO</td>\n",
       "      <td>KIMIRONKO_Rwanda</td>\n",
       "      <td>Ndagurisha inzu ituzuye iri kimironko mwizindi...</td>\n",
       "      <td>2019-12-10</td>\n",
       "      <td>-0.011752</td>\n",
       "      <td>0.011840</td>\n",
       "      <td>4.0</td>\n",
       "      <td>3.0</td>\n",
       "      <td>0.0</td>\n",
       "      <td>0.0</td>\n",
       "      <td>16.682040</td>\n",
       "    </tr>\n",
       "    <tr>\n",
       "      <th>3</th>\n",
       "      <td>2500000.0</td>\n",
       "      <td>KIMIRONKO</td>\n",
       "      <td>KIMIRONKO_Rwanda</td>\n",
       "      <td>Ndagurisha inzu yamake iri hafi nu ruganda rwa...</td>\n",
       "      <td>2019-12-10</td>\n",
       "      <td>-0.011752</td>\n",
       "      <td>0.011840</td>\n",
       "      <td>4.0</td>\n",
       "      <td>3.0</td>\n",
       "      <td>0.0</td>\n",
       "      <td>0.0</td>\n",
       "      <td>16.682040</td>\n",
       "    </tr>\n",
       "    <tr>\n",
       "      <th>4</th>\n",
       "      <td>47000000.0</td>\n",
       "      <td>KIMIRONKO</td>\n",
       "      <td>KIMIRONKO_Rwanda</td>\n",
       "      <td>Ndagurisha inzu nziza cyane iri kanombe ku gas...</td>\n",
       "      <td>2019-12-10</td>\n",
       "      <td>-0.011752</td>\n",
       "      <td>0.011840</td>\n",
       "      <td>4.0</td>\n",
       "      <td>3.0</td>\n",
       "      <td>0.0</td>\n",
       "      <td>0.0</td>\n",
       "      <td>16.682040</td>\n",
       "    </tr>\n",
       "  </tbody>\n",
       "</table>\n",
       "</div>"
      ],
      "text/plain": [
       "        Price   Location  MatchedDistricts  \\\n",
       "0  55000000.0    KANOMBE    KANOMBE_Rwanda   \n",
       "1  60000000.0  KIMIRONKO  KIMIRONKO_Rwanda   \n",
       "2  35000000.0  KIMIRONKO  KIMIRONKO_Rwanda   \n",
       "3   2500000.0  KIMIRONKO  KIMIRONKO_Rwanda   \n",
       "4  47000000.0  KIMIRONKO  KIMIRONKO_Rwanda   \n",
       "\n",
       "                                         Description        Date       Lat  \\\n",
       "0  Ndagurisha inzu nziza cyane iri kanombe kuri c...  2019-12-10 -0.030861   \n",
       "1  Ndagurisha inzu nziza cyane ikomeye ifite na m...  2019-12-10 -0.011752   \n",
       "2  Ndagurisha inzu ituzuye iri kimironko mwizindi...  2019-12-10 -0.011752   \n",
       "3  Ndagurisha inzu yamake iri hafi nu ruganda rwa...  2019-12-10 -0.011752   \n",
       "4  Ndagurisha inzu nziza cyane iri kanombe ku gas...  2019-12-10 -0.011752   \n",
       "\n",
       "        Lon  Bedrooms  Bathrooms  Apartment  WaterTank   distance  \n",
       "0  0.020099       4.0        3.0        0.0        0.0  36.829055  \n",
       "1  0.011840       4.0        3.0        0.0        0.0  16.682040  \n",
       "2  0.011840       4.0        3.0        0.0        0.0  16.682040  \n",
       "3  0.011840       4.0        3.0        0.0        0.0  16.682040  \n",
       "4  0.011840       4.0        3.0        0.0        0.0  16.682040  "
      ]
     },
     "execution_count": 517,
     "metadata": {},
     "output_type": "execute_result"
    }
   ],
   "source": [
    "%matplotlib inline\n",
    "import matplotlib.pyplot as plt\n",
    "import numpy as np\n",
    "import os\n",
    "import pandas as pd\n",
    "house = pd.read_csv(r\"C:\\Users\\prink\\OneDrive\\Desktop\\Data science\\MachineLearning\\render.csv\")\n",
    "house.head(5)"
   ]
  },
  {
   "cell_type": "code",
   "execution_count": 518,
   "metadata": {},
   "outputs": [
    {
     "data": {
      "text/html": [
       "<div>\n",
       "<style scoped>\n",
       "    .dataframe tbody tr th:only-of-type {\n",
       "        vertical-align: middle;\n",
       "    }\n",
       "\n",
       "    .dataframe tbody tr th {\n",
       "        vertical-align: top;\n",
       "    }\n",
       "\n",
       "    .dataframe thead th {\n",
       "        text-align: right;\n",
       "    }\n",
       "</style>\n",
       "<table border=\"1\" class=\"dataframe\">\n",
       "  <thead>\n",
       "    <tr style=\"text-align: right;\">\n",
       "      <th></th>\n",
       "      <th>Missing Values</th>\n",
       "      <th>Percentage</th>\n",
       "    </tr>\n",
       "  </thead>\n",
       "  <tbody>\n",
       "    <tr>\n",
       "      <th>Lat</th>\n",
       "      <td>96</td>\n",
       "      <td>12.631579</td>\n",
       "    </tr>\n",
       "    <tr>\n",
       "      <th>Lon</th>\n",
       "      <td>96</td>\n",
       "      <td>12.631579</td>\n",
       "    </tr>\n",
       "    <tr>\n",
       "      <th>Location</th>\n",
       "      <td>73</td>\n",
       "      <td>9.605263</td>\n",
       "    </tr>\n",
       "    <tr>\n",
       "      <th>MatchedDistricts</th>\n",
       "      <td>35</td>\n",
       "      <td>4.605263</td>\n",
       "    </tr>\n",
       "  </tbody>\n",
       "</table>\n",
       "</div>"
      ],
      "text/plain": [
       "                  Missing Values  Percentage\n",
       "Lat                           96   12.631579\n",
       "Lon                           96   12.631579\n",
       "Location                      73    9.605263\n",
       "MatchedDistricts              35    4.605263"
      ]
     },
     "execution_count": 518,
     "metadata": {},
     "output_type": "execute_result"
    }
   ],
   "source": [
    "num_missing = house.isna().sum()\n",
    "num_missing = num_missing[num_missing > 0]\n",
    "percent_missing = num_missing * 100 / house.shape[0]\n",
    "pd.concat([num_missing, percent_missing], axis=1, keys=['Missing Values', 'Percentage']).\\\n",
    "sort_values(by=\"Missing Values\", ascending=False)"
   ]
  },
  {
   "cell_type": "code",
   "execution_count": 519,
   "metadata": {},
   "outputs": [
    {
     "data": {
      "text/html": [
       "<div>\n",
       "<style scoped>\n",
       "    .dataframe tbody tr th:only-of-type {\n",
       "        vertical-align: middle;\n",
       "    }\n",
       "\n",
       "    .dataframe tbody tr th {\n",
       "        vertical-align: top;\n",
       "    }\n",
       "\n",
       "    .dataframe thead th {\n",
       "        text-align: right;\n",
       "    }\n",
       "</style>\n",
       "<table border=\"1\" class=\"dataframe\">\n",
       "  <thead>\n",
       "    <tr style=\"text-align: right;\">\n",
       "      <th></th>\n",
       "      <th>Price</th>\n",
       "      <th>Location</th>\n",
       "      <th>MatchedDistricts</th>\n",
       "      <th>Description</th>\n",
       "      <th>Date</th>\n",
       "      <th>Lat</th>\n",
       "      <th>Lon</th>\n",
       "      <th>Bedrooms</th>\n",
       "      <th>Bathrooms</th>\n",
       "      <th>Apartment</th>\n",
       "      <th>WaterTank</th>\n",
       "      <th>distance</th>\n",
       "    </tr>\n",
       "  </thead>\n",
       "  <tbody>\n",
       "    <tr>\n",
       "      <th>0</th>\n",
       "      <td>55000000.0</td>\n",
       "      <td>KANOMBE</td>\n",
       "      <td>KANOMBE_Rwanda</td>\n",
       "      <td>Ndagurisha inzu nziza cyane iri kanombe kuri c...</td>\n",
       "      <td>2019-12-10</td>\n",
       "      <td>-0.030861</td>\n",
       "      <td>0.020099</td>\n",
       "      <td>4.0</td>\n",
       "      <td>3.0</td>\n",
       "      <td>0.0</td>\n",
       "      <td>0.0</td>\n",
       "      <td>36.829055</td>\n",
       "    </tr>\n",
       "    <tr>\n",
       "      <th>1</th>\n",
       "      <td>60000000.0</td>\n",
       "      <td>KIMIRONKO</td>\n",
       "      <td>KIMIRONKO_Rwanda</td>\n",
       "      <td>Ndagurisha inzu nziza cyane ikomeye ifite na m...</td>\n",
       "      <td>2019-12-10</td>\n",
       "      <td>-0.011752</td>\n",
       "      <td>0.011840</td>\n",
       "      <td>4.0</td>\n",
       "      <td>3.0</td>\n",
       "      <td>0.0</td>\n",
       "      <td>0.0</td>\n",
       "      <td>16.682040</td>\n",
       "    </tr>\n",
       "    <tr>\n",
       "      <th>2</th>\n",
       "      <td>35000000.0</td>\n",
       "      <td>KIMIRONKO</td>\n",
       "      <td>KIMIRONKO_Rwanda</td>\n",
       "      <td>Ndagurisha inzu ituzuye iri kimironko mwizindi...</td>\n",
       "      <td>2019-12-10</td>\n",
       "      <td>-0.011752</td>\n",
       "      <td>0.011840</td>\n",
       "      <td>4.0</td>\n",
       "      <td>3.0</td>\n",
       "      <td>0.0</td>\n",
       "      <td>0.0</td>\n",
       "      <td>16.682040</td>\n",
       "    </tr>\n",
       "    <tr>\n",
       "      <th>3</th>\n",
       "      <td>2500000.0</td>\n",
       "      <td>KIMIRONKO</td>\n",
       "      <td>KIMIRONKO_Rwanda</td>\n",
       "      <td>Ndagurisha inzu yamake iri hafi nu ruganda rwa...</td>\n",
       "      <td>2019-12-10</td>\n",
       "      <td>-0.011752</td>\n",
       "      <td>0.011840</td>\n",
       "      <td>4.0</td>\n",
       "      <td>3.0</td>\n",
       "      <td>0.0</td>\n",
       "      <td>0.0</td>\n",
       "      <td>16.682040</td>\n",
       "    </tr>\n",
       "    <tr>\n",
       "      <th>4</th>\n",
       "      <td>47000000.0</td>\n",
       "      <td>KIMIRONKO</td>\n",
       "      <td>KIMIRONKO_Rwanda</td>\n",
       "      <td>Ndagurisha inzu nziza cyane iri kanombe ku gas...</td>\n",
       "      <td>2019-12-10</td>\n",
       "      <td>-0.011752</td>\n",
       "      <td>0.011840</td>\n",
       "      <td>4.0</td>\n",
       "      <td>3.0</td>\n",
       "      <td>0.0</td>\n",
       "      <td>0.0</td>\n",
       "      <td>16.682040</td>\n",
       "    </tr>\n",
       "  </tbody>\n",
       "</table>\n",
       "</div>"
      ],
      "text/plain": [
       "        Price   Location  MatchedDistricts  \\\n",
       "0  55000000.0    KANOMBE    KANOMBE_Rwanda   \n",
       "1  60000000.0  KIMIRONKO  KIMIRONKO_Rwanda   \n",
       "2  35000000.0  KIMIRONKO  KIMIRONKO_Rwanda   \n",
       "3   2500000.0  KIMIRONKO  KIMIRONKO_Rwanda   \n",
       "4  47000000.0  KIMIRONKO  KIMIRONKO_Rwanda   \n",
       "\n",
       "                                         Description        Date       Lat  \\\n",
       "0  Ndagurisha inzu nziza cyane iri kanombe kuri c...  2019-12-10 -0.030861   \n",
       "1  Ndagurisha inzu nziza cyane ikomeye ifite na m...  2019-12-10 -0.011752   \n",
       "2  Ndagurisha inzu ituzuye iri kimironko mwizindi...  2019-12-10 -0.011752   \n",
       "3  Ndagurisha inzu yamake iri hafi nu ruganda rwa...  2019-12-10 -0.011752   \n",
       "4  Ndagurisha inzu nziza cyane iri kanombe ku gas...  2019-12-10 -0.011752   \n",
       "\n",
       "        Lon  Bedrooms  Bathrooms  Apartment  WaterTank   distance  \n",
       "0  0.020099       4.0        3.0        0.0        0.0  36.829055  \n",
       "1  0.011840       4.0        3.0        0.0        0.0  16.682040  \n",
       "2  0.011840       4.0        3.0        0.0        0.0  16.682040  \n",
       "3  0.011840       4.0        3.0        0.0        0.0  16.682040  \n",
       "4  0.011840       4.0        3.0        0.0        0.0  16.682040  "
      ]
     },
     "execution_count": 519,
     "metadata": {},
     "output_type": "execute_result"
    }
   ],
   "source": [
    "house[\"Location\"]=house[\"Location\"].fillna(house[\"Location\"].mode()[0])\n",
    "house[\"Lon\"]=house[\"Lon\"].fillna(house[\"Lon\"].mode()[0])\n",
    "house[\"Lat\"]=house[\"Lat\"].fillna(house[\"Lat\"].mode()[0])\n",
    "house[\"MatchedDistricts\"]=house[\"MatchedDistricts\"].fillna(house[\"MatchedDistricts\"].mode()[0])\n",
    "house.head()"
   ]
  },
  {
   "cell_type": "code",
   "execution_count": 520,
   "metadata": {},
   "outputs": [],
   "source": [
    "X = house.drop(['Location', 'Description', 'Date', 'Lat', 'Lon', 'Price','MatchedDistricts'], axis = 1)\n",
    "y = house[\"Price\"].to_frame()\n"
   ]
  },
  {
   "cell_type": "code",
   "execution_count": 521,
   "metadata": {},
   "outputs": [
    {
     "data": {
      "text/plain": [
       "{'n_neighbors': 2, 'weights': 'distance'}"
      ]
     },
     "execution_count": 521,
     "metadata": {},
     "output_type": "execute_result"
    }
   ],
   "source": [
    "from sklearn.neighbors import KNeighborsRegressor\n",
    "from sklearn.model_selection import train_test_split, GridSearchCV\n",
    "model = KNeighborsRegressor()\n",
    "Xtrain, Xtest, ytrain, ytest= train_test_split(X,y) \n",
    "n_neighbors = range(1, 21)\n",
    "weights = ['uniform', 'distance']\n",
    "# define grid search\n",
    "grid = dict(n_neighbors=n_neighbors,weights=weights)\n",
    "grid_search = GridSearchCV(estimator=model, param_grid=grid, n_jobs=-1, cv=5, scoring=\"neg_root_mean_squared_error\")\n",
    "grid_result = grid_search.fit(X, y)\n",
    "best_estimator=grid_result.best_params_\n",
    "best_estimator\n"
   ]
  },
  {
   "cell_type": "code",
   "execution_count": 522,
   "metadata": {},
   "outputs": [
    {
     "name": "stdout",
     "output_type": "stream",
     "text": [
      "Best: -192445835.473998 using {'n_neighbors': 2, 'weights': 'distance'}\n"
     ]
    }
   ],
   "source": [
    "print(\"Best: %f using %s\" % (grid_result.best_score_, grid_result.best_params_))"
   ]
  },
  {
   "cell_type": "code",
   "execution_count": 523,
   "metadata": {},
   "outputs": [
    {
     "data": {
      "text/plain": [
       "(17695894.736842107, 0.4969027513129102, 34970909.85075272)"
      ]
     },
     "execution_count": 523,
     "metadata": {},
     "output_type": "execute_result"
    }
   ],
   "source": [
    "from sklearn.metrics import mean_squared_error, mean_absolute_error\n",
    "best_knn = grid_result.best_estimator_\n",
    "y_pred = best_knn.predict(Xtest)\n",
    "r2=best_knn.score(X,y)\n",
    "mae=mean_absolute_error(ytest, y_pred)\n",
    "mse=mean_squared_error(ytest, y_pred)\n",
    "final_rmse=np.sqrt(mse)\n",
    "mae,r2,final_rmse"
   ]
  },
  {
   "cell_type": "code",
   "execution_count": 524,
   "metadata": {},
   "outputs": [
    {
     "data": {
      "image/png": "[encoded data removed]",
      "text/plain": [
       "<Figure size 432x288 with 1 Axes>"
      ]
     },
     "metadata": {
      "needs_background": "light"
     },
     "output_type": "display_data"
    }
   ],
   "source": [
    "plt.scatter(np.log(ytest), np.log(y_pred), marker = '+', label = 'R-square:{:.4f}'.format(r2))\n",
    "#plt.plot([min(np.log(y)), max(np.log(y))], [min(np.log(y)), max(np.log(y))], 'r--',linewidth = 3)\n",
    "plt.ylabel('log(y_predict)')\n",
    "plt.xlabel('log(y)')\n",
    "plt.title('KNN Regression')\n",
    "plt.legend()\n",
    "plt.show()\n"
   ]
  },
  {
   "cell_type": "code",
   "execution_count": 530,
   "metadata": {},
   "outputs": [
    {
     "data": {
      "text/plain": [
       "(760, 1)"
      ]
     },
     "execution_count": 530,
     "metadata": {},
     "output_type": "execute_result"
    }
   ],
   "source": [
    "y.shape, "
   ]
  },
  {
   "cell_type": "markdown",
   "metadata": {},
   "source": [
    "# MSE vs K cross Validation"
   ]
  },
  {
   "cell_type": "code",
   "execution_count": 532,
   "metadata": {},
   "outputs": [
    {
     "data": {
      "image/png": "[encoded data removed]",
      "text/plain": [
       "<Figure size 432x288 with 1 Axes>"
      ]
     },
     "metadata": {
      "needs_background": "light"
     },
     "output_type": "display_data"
    }
   ],
   "source": [
    "from sklearn.model_selection import KFold\n",
    "def kfolds(x_train, y_train, folds, model, filename, n_neighbors=2):\n",
    "\n",
    "    #Check if it is a log model - it uses C, whereas others use alpha as the regularisation parameter\n",
    "    #Also check for kNN model, as it takes a n_neighbours \n",
    "   \n",
    "    kf = KFold(n_splits = folds)\n",
    "    if (y_train.ndim > 1):\n",
    "        y_train = np.ravel(y)\n",
    "    \n",
    "    for train, test in kf.split(x_train):\n",
    "\n",
    "        #print(x_train[train])\n",
    "        model.fit(x_train[train], y_train[train])\n",
    "        ypred = model.predict(x_train[test])\n",
    "        mean_square_er = mean_squared_error(y[test],ypred)\n",
    "\n",
    "        if ((\"df\" not in locals())):\n",
    "\n",
    "            df = pd.DataFrame([mean_square_er])\n",
    "            continue\n",
    "\n",
    "        df = df.append(pd.DataFrame([mean_square_er]))\n",
    "\n",
    "    mean = df.mean()\n",
    "    var = df.iloc[:,0:folds].var()\n",
    "\n",
    "    #Last two values of the column will be the mean and var\n",
    "\n",
    "    df = df.append([mean])\n",
    "    df = df.append([var])\n",
    "    \n",
    "     #Write to csv\n",
    "    df.to_csv(filename + '.csv')\n",
    "\n",
    "    return [mean, var, folds, n_neighbors]\n",
    "\n",
    "def crossValK(kRange, model, modelType, filename):\n",
    "\n",
    "    meansVars = []\n",
    "\n",
    "    for k in kRange:\n",
    "        model.n_neighbors = k\n",
    "        folds = kfolds(X, y, 5,model,\"output.csv\",k)\n",
    "        folds.append(k)\n",
    "        meansVars.append(folds)\n",
    "\n",
    "\n",
    "    meansVars = np.array(meansVars)\n",
    "    meansVars = meansVars.transpose()\n",
    "    pd.DataFrame(meansVars).to_csv(filename + \".csv\")\n",
    "\n",
    "\n",
    "    fig = plt.figure()\n",
    "    ax = fig.add_subplot(111)\n",
    "    ax.set_title(modelType + \": MSE and variance against k for %f\"% int(5) + \" folds\")\n",
    "    ax.set_ylabel('Mean Square Error')\n",
    "    ax.set_xlabel('Parameter k')\n",
    "    ax = plt.errorbar(meansVars[4], meansVars[0], yerr = meansVars[1])\n",
    "    \n",
    "    return fig\n",
    "\n",
    "#kNeigh = KNeighborsRegressor(n_neighbors=2,weights='uniform')\n",
    "knn=KNeighborsRegressor()\n",
    "n_neighbors=range(1,21)\n",
    "\n",
    "fig3 = crossValK(n_neighbors,knn, \"K Nearest Neighbours\", \"Val_K_1\")\n",
    "\n",
    "\n",
    "#From our validation, we'll set k = 11\n",
    "\n",
    "#kNeigh.n_neighbors = 11\n",
    "\n",
    "plt.show()\n",
    "\n"
   ]
  },
  {
   "cell_type": "markdown",
   "metadata": {},
   "source": [
    "# Polynomial Cross Validation"
   ]
  },
  {
   "cell_type": "code",
   "execution_count": 531,
   "metadata": {},
   "outputs": [
    {
     "name": "stdout",
     "output_type": "stream",
     "text": [
      "[0    1.345023e+17\n",
      "dtype: float64 0    1.335520e+17\n",
      "dtype: float64\n",
      " 0    1.335474e+17\n",
      "dtype: float64 0    1.335404e+17\n",
      "dtype: float64]\n"
     ]
    },
    {
     "data": {
      "image/png": "[encoded data removed]",
      "text/plain": [
       "<Figure size 432x288 with 1 Axes>"
      ]
     },
     "metadata": {
      "needs_background": "light"
     },
     "output_type": "display_data"
    }
   ],
   "source": [
    "from sklearn.model_selection import KFold\n",
    "def kfolds(x_train, y_train, folds, model, filename, n_neighbors=2):\n",
    "\n",
    "    #Check if it is a log model - it uses C, whereas others use alpha as the regularisation parameter\n",
    "    #Also check for kNN model, as it takes a n_neighbours \n",
    "\n",
    "\n",
    "      \n",
    "\n",
    "\n",
    "    kf = KFold(n_splits = folds)\n",
    "    if (y_train.ndim > 1):\n",
    "        y_train = np.ravel(y)\n",
    "    \n",
    "    for train, test in kf.split(x_train):\n",
    "\n",
    "        #print(x_train[train])\n",
    "        model.fit(x_train[train], y_train[train])\n",
    "        ypred = model.predict(x_train[test])\n",
    "        mean_square_er = mean_squared_error(y[test],ypred)\n",
    "\n",
    "        if ((\"df\" not in locals())):\n",
    "\n",
    "            df = pd.DataFrame([mean_square_er])\n",
    "            continue\n",
    "\n",
    "        df = df.append(pd.DataFrame([mean_square_er]))\n",
    "\n",
    "    mean = df.mean()\n",
    "    var = df.iloc[:,0:folds].var()\n",
    "\n",
    "    #Last two values of the column will be the mean and var\n",
    "\n",
    "    df = df.append([mean])\n",
    "    df = df.append([var])\n",
    "    \n",
    "     #Write to csv\n",
    "    df.to_csv(filename + '.csv')\n",
    "\n",
    "    return [mean, var, folds, n_neighbors]\n",
    "\n",
    "\n",
    "\n",
    "def crossValpoly(Train_x, Train_y,Orders, model, modelType, filename):\n",
    "\n",
    "    meansVars = []\n",
    "\n",
    "    for order in Orders:\n",
    "        poly = PolynomialFeatures(order)\n",
    "        X_train_adj = poly.fit_transform(X)\n",
    "        folds = kfolds(X_train_adj, Train_y, 5,model,\"Poly_Folds.csv\",0.01)\n",
    "        folds.append(order)\n",
    "        meansVars.append(folds)\n",
    "\n",
    "\n",
    "    meansVars = np.array(meansVars)\n",
    "    meansVars = meansVars.transpose()\n",
    "    pd.DataFrame(meansVars).to_csv(filename + \".csv\")\n",
    "\n",
    "    fig = plt.figure()\n",
    "    ax = fig.add_subplot(111)\n",
    "    ax.set_title(modelType + \": Mean Square Error and variance against order of polynomials for %f\"% int(5) + \" folds\")\n",
    "    ax.set_ylabel('Mean Square Error')\n",
    "    ax.set_xlabel('No. of Polynomials')\n",
    "\n",
    "    #Plotting order of polynomial against MSE, with variance on the error bar\n",
    "    \n",
    "    print(meansVars[0])\n",
    "    ax = plt.errorbar(meansVars[4], meansVars[0], yerr = meansVars[1])\n",
    "    \n",
    "    return fig\n",
    "\n",
    "X = np.array(X)\n",
    "y = np.array(y)\n",
    "crossValpoly(X,y,[1,2,3,4],best_knn,\"KNN\",\"output\")\n",
    "plt.show()"
   ]
  },
  {
   "cell_type": "markdown",
   "metadata": {},
   "source": [
    "# Feature Transform"
   ]
  },
  {
   "cell_type": "code",
   "execution_count": 451,
   "metadata": {},
   "outputs": [
    {
     "name": "stdout",
     "output_type": "stream",
     "text": [
      "-2.0679213323552483\n",
      "-2.16661445804022\n",
      "-2.1581594077881254\n",
      "-2.145329733125414\n",
      "-2.143483420592324\n",
      "-2.1695840780112783\n",
      "-2.1939707118115557\n",
      "-2.193853916752494\n",
      "-2.193889219654614\n",
      "-2.334372112223187\n"
     ]
    }
   ],
   "source": [
    "from sklearn.preprocessing import PolynomialFeatures\n",
    "\n",
    "X_train, X_test, y_train, y_test = train_test_split(X, y, random_state = 0)\n",
    "for d in range(1,11):\n",
    "    poly = PolynomialFeatures(degree=d)\n",
    "    X_T_poly = poly.fit_transform(X)\n",
    "    X_train, X_test, y_train, y_test = train_test_split(X_T_poly, y, random_state = 0)\n",
    "    knn = KNeighborsRegressor(n_neighbors = 3)\n",
    "    knn.fit(X_train, y_train)\n",
    "    scores = cross_val_score(knn, X_test, y_test, scoring='r2', cv=5, n_jobs=-1)\n",
    "    print(scores.mean())"
   ]
  },
  {
   "cell_type": "markdown",
   "metadata": {},
   "source": [
    "# Standard Scaling"
   ]
  },
  {
   "cell_type": "code",
   "execution_count": 452,
   "metadata": {},
   "outputs": [],
   "source": [
    "from sklearn.model_selection import train_test_split\n",
    "x_train , x_test, y_train, y_test = train_test_split(X,y,test_size = 0.2)\n",
    "\n"
   ]
  },
  {
   "cell_type": "code",
   "execution_count": 453,
   "metadata": {},
   "outputs": [],
   "source": [
    "from sklearn.preprocessing import StandardScaler\n",
    "scaler = StandardScaler()\n",
    "scaler.fit(Xtrain)\n",
    "x_train = scaler.transform(x_train)\n",
    "x_test = scaler.transform(x_test)"
   ]
  },
  {
   "cell_type": "code",
   "execution_count": 454,
   "metadata": {},
   "outputs": [
    {
     "data": {
      "text/plain": [
       "([9868175147368422.0,\n",
       "  9512457026973684.0,\n",
       "  9419813466666668.0,\n",
       "  9128528102302632.0,\n",
       "  9072474656526316.0,\n",
       "  9076723155116960.0,\n",
       "  9072499228625136.0,\n",
       "  9120785660444080.0,\n",
       "  9216004958966862.0,\n",
       "  9145132309526316.0,\n",
       "  9080925775054372.0,\n",
       "  9152230748026612.0,\n",
       "  1.343493280951442e+16,\n",
       "  2.3148935065816544e+16,\n",
       "  2.133504183774288e+16,\n",
       "  2.003063931159556e+16,\n",
       "  2.1281917320961716e+16,\n",
       "  2.018149654931787e+16,\n",
       "  1.9326807942542764e+16,\n",
       "  1.834548827699353e+16],\n",
       " [99338689.0761521,\n",
       "  97531825.71332131,\n",
       "  97055723.51317911,\n",
       "  95543331.0195046,\n",
       "  95249538.87828705,\n",
       "  95271838.20582533,\n",
       "  95249667.86621955,\n",
       "  95502804.46376473,\n",
       "  96000025.82794893,\n",
       "  95630185.13799039,\n",
       "  95293891.5936083,\n",
       "  95667291.94466943,\n",
       "  115909157.57400025,\n",
       "  152147740.9159155,\n",
       "  146065197.21597913,\n",
       "  141529641.10600847,\n",
       "  145883231.80188227,\n",
       "  142061594.20940578,\n",
       "  139020890.30984792,\n",
       "  135445517.7441968])"
      ]
     },
     "execution_count": 454,
     "metadata": {},
     "output_type": "execute_result"
    }
   ],
   "source": [
    "import numpy as np\n",
    "from sklearn.neighbors import KNeighborsRegressor\n",
    "knn_mses=[]\n",
    "knn_rmses=[]\n",
    "for k in range(1,21):\n",
    "    knnr = KNeighborsRegressor(n_neighbors=k)\n",
    "    knnr.fit(x_train, y_train)\n",
    "    y_pred=knnr.predict(x_test)\n",
    "    mse = mean_squared_error(y_test,y_pred)\n",
    "    rmse=mse**0.5\n",
    "    knn_mses.append(mse)\n",
    "    knn_rmses.append(rmse)\n",
    "knn_mses, knn_rmses\n"
   ]
  },
  {
   "cell_type": "markdown",
   "metadata": {},
   "source": [
    "# Cross_val_Predict"
   ]
  },
  {
   "cell_type": "code",
   "execution_count": 455,
   "metadata": {
    "scrolled": true
   },
   "outputs": [
    {
     "data": {
      "text/plain": [
       "((608, 5), (152, 5), (608, 1), (152, 1))"
      ]
     },
     "execution_count": 455,
     "metadata": {},
     "output_type": "execute_result"
    }
   ],
   "source": [
    "from sklearn.model_selection import train_test_split\n",
    "Xtrain , Xtest, ytrain, ytest = train_test_split(X,y,test_size = 0.2)\n",
    "\n",
    "\n",
    "Xtrain.shape, Xtest.shape, ytrain.shape, ytest.shape"
   ]
  },
  {
   "cell_type": "code",
   "execution_count": 456,
   "metadata": {},
   "outputs": [
    {
     "data": {
      "image/png": "[encoded data removed]",
      "text/plain": [
       "<Figure size 432x288 with 1 Axes>"
      ]
     },
     "metadata": {
      "needs_background": "light"
     },
     "output_type": "display_data"
    }
   ],
   "source": [
    "from sklearn.model_selection import cross_val_predict\n",
    "k=range(1,21)\n",
    "knn_mses = []\n",
    "knn_rmses= []\n",
    "for n in k:\n",
    "    knn = KNeighborsRegressor(n)\n",
    "    y_pred = cross_val_predict(knn,X,y)\n",
    "    mse = mean_squared_error(y,y_pred)\n",
    "    knn_mses.append(mse)\n",
    "    knn_rmses.append(mse**0.5)\n",
    "\n",
    "plt.plot(k, knn_mses)\n",
    "plt.xlabel(\"k\")\n",
    "plt.ylabel('MSE')\n",
    "plt.title('KNN cross val for 5 Fold')\n",
    "plt.show()"
   ]
  },
  {
   "cell_type": "code",
   "execution_count": 457,
   "metadata": {},
   "outputs": [
    {
     "data": {
      "image/png": "[encoded data removed]",
      "text/plain": [
       "<Figure size 432x288 with 1 Axes>"
      ]
     },
     "metadata": {
      "needs_background": "light"
     },
     "output_type": "display_data"
    }
   ],
   "source": [
    "from sklearn.model_selection import cross_val_predict\n",
    "k=range(1,21)\n",
    "knn_mses_train = []\n",
    "\n",
    "for n in k:\n",
    "    knn = KNeighborsRegressor(n)\n",
    "    y_pred_train = cross_val_predict(knn,Xtrain,ytrain)\n",
    "    mse_train = mean_squared_error(ytrain,y_pred_train)\n",
    "    knn_mses_train.append(mse_train)\n",
    "    \n",
    "\n",
    "    \n",
    "plt.plot(k, knn_mses_train)\n",
    "\n",
    "plt.xlabel(\"k\")\n",
    "plt.ylabel('MSE')\n",
    "plt.title('KNN cross val for 5 Fold')\n",
    "plt.show()"
   ]
  },
  {
   "cell_type": "code",
   "execution_count": 458,
   "metadata": {},
   "outputs": [
    {
     "data": {
      "image/png": "[encoded data removed]",
      "text/plain": [
       "<Figure size 432x288 with 1 Axes>"
      ]
     },
     "metadata": {
      "needs_background": "light"
     },
     "output_type": "display_data"
    }
   ],
   "source": [
    "knn_mses_test=[]\n",
    "for n in k: \n",
    "    knn = KNeighborsRegressor(n)\n",
    "    y_pred_test = cross_val_predict(knn,Xtest,ytest)\n",
    "    mse_test = mean_squared_error(ytest,y_pred_test)\n",
    "    knn_mses_test.append(mse_test)\n",
    "plt.plot(k, knn_mses_test)\n",
    "plt.xlabel(\"k\")\n",
    "plt.ylabel('MSE')\n",
    "plt.title('KNN cross val for 5 Fold')\n",
    "plt.show()"
   ]
  },
  {
   "cell_type": "markdown",
   "metadata": {},
   "source": [
    "# KNN Regression with k-fold cross validation"
   ]
  },
  {
   "cell_type": "code",
   "execution_count": 459,
   "metadata": {},
   "outputs": [
    {
     "name": "stdout",
     "output_type": "stream",
     "text": [
      "k  1 Mean:\t\t  195634018.66524357 Standard Deviation: 310618294.89678866\n",
      "k  2 Mean:\t\t  193863265.5769662 Standard Deviation: 311509806.78822607\n",
      "k  3 Mean:\t\t  194181072.70189524 Standard Deviation: 310901990.05280083\n",
      "k  4 Mean:\t\t  197576665.66380304 Standard Deviation: 309172991.96880424\n",
      "k  5 Mean:\t\t  233686601.21707195 Standard Deviation: 300612311.7736395\n",
      "k  6 Mean:\t\t  257132611.73722488 Standard Deviation: 288137959.1611392\n",
      "k  7 Mean:\t\t  263581772.11866665 Standard Deviation: 280056420.51475173\n",
      "k  8 Mean:\t\t  252951094.52438205 Standard Deviation: 284167237.1547607\n",
      "k  9 Mean:\t\t  244829850.93705362 Standard Deviation: 287468457.5213255\n",
      "k  10 Mean:\t\t  238665119.4304863 Standard Deviation: 289997503.69098854\n",
      "k  11 Mean:\t\t  233891367.24335074 Standard Deviation: 291985843.44876474\n",
      "k  12 Mean:\t\t  229687311.48463756 Standard Deviation: 293911637.5693401\n",
      "k  13 Mean:\t\t  226062906.8326172 Standard Deviation: 295442219.49075174\n",
      "k  14 Mean:\t\t  223038735.26538834 Standard Deviation: 296867248.58032936\n",
      "k  15 Mean:\t\t  220589759.4639801 Standard Deviation: 297829524.35590637\n",
      "k  16 Mean:\t\t  221071957.2248408 Standard Deviation: 297577563.1865402\n",
      "k  17 Mean:\t\t  219287506.65415853 Standard Deviation: 298381910.7851008\n",
      "k  18 Mean:\t\t  227844520.50317025 Standard Deviation: 293987487.9719845\n",
      "k  19 Mean:\t\t  235469511.75731522 Standard Deviation: 289534915.2806388\n",
      "k  20 Mean:\t\t  232941332.6645379 Standard Deviation: 290708555.770934\n"
     ]
    }
   ],
   "source": [
    "from sklearn.neighbors import KNeighborsRegressor\n",
    "from sklearn.metrics import mean_squared_error\n",
    "from sklearn.model_selection import cross_val_score\n",
    "mse=[]\n",
    "for i in range(1,21):\n",
    "    knn_reg = KNeighborsRegressor(i)\n",
    "    scores = cross_val_score(knn_reg, X, y,scoring=\"neg_mean_squared_error\", cv=5)\n",
    "    mse.append(scores)\n",
    "    rmse_scores = np.sqrt(-scores)\n",
    "    print(\"k \",i, \"Mean:\\t\\t \", rmse_scores.mean(), \"Standard Deviation:\", rmse_scores.std())\n",
    "    "
   ]
  },
  {
   "cell_type": "markdown",
   "metadata": {},
   "source": [
    "# Dummy Regressor"
   ]
  },
  {
   "cell_type": "code",
   "execution_count": 173,
   "metadata": {},
   "outputs": [
    {
     "data": {
      "text/plain": [
       "-0.005348512717114451"
      ]
     },
     "execution_count": 173,
     "metadata": {},
     "output_type": "execute_result"
    }
   ],
   "source": [
    "from sklearn.dummy import DummyRegressor\n",
    "dummyRegress = DummyRegressor(strategy='median')\n",
    "\n",
    "dummyRegress.fit(X,y)\n",
    "\n",
    "dummyRegress.predict(X)\n",
    "\n",
    "dummyRegress.score(X, y)"
   ]
  },
  {
   "cell_type": "code",
   "execution_count": 174,
   "metadata": {},
   "outputs": [
    {
     "data": {
      "text/plain": [
       "0.0"
      ]
     },
     "execution_count": 174,
     "metadata": {},
     "output_type": "execute_result"
    }
   ],
   "source": [
    "from sklearn.dummy import DummyRegressor\n",
    "dummyRegress = DummyRegressor(strategy='mean')\n",
    "\n",
    "dummyRegress.fit(X,y)\n",
    "\n",
    "dummyRegress.predict(X)\n",
    "\n",
    "dummyRegress.score(X, y)"
   ]
  }
 ],
 "metadata": {
  "kernelspec": {
   "display_name": "Python 3",
   "language": "python",
   "name": "python3"
  },
  "language_info": {
   "codemirror_mode": {
    "name": "ipython",
    "version": 3
   },
   "file_extension": ".py",
   "mimetype": "text/x-python",
   "name": "python",
   "nbconvert_exporter": "python",
   "pygments_lexer": "ipython3",
   "version": "3.8.5"
  }
 },
 "nbformat": 4,
 "nbformat_minor": 4
}
